{
  "nbformat": 4,
  "nbformat_minor": 0,
  "metadata": {
    "colab": {
      "provenance": [],
      "include_colab_link": true
    },
    "kernelspec": {
      "name": "python3",
      "display_name": "Python 3"
    },
    "language_info": {
      "name": "python"
    }
  },
  "cells": [
    {
      "cell_type": "markdown",
      "metadata": {
        "id": "view-in-github",
        "colab_type": "text"
      },
      "source": [
        "<a href=\"https://colab.research.google.com/github/i0dheerajdileep/-Emotion-Recognition-from-Facial-Expressions/blob/main/facialrecog.ipynb\" target=\"_parent\"><img src=\"https://colab.research.google.com/assets/colab-badge.svg\" alt=\"Open In Colab\"/></a>"
      ]
    },
    {
      "cell_type": "code",
      "execution_count": null,
      "metadata": {
        "id": "7XD7HV7sOGKB"
      },
      "outputs": [],
      "source": [
        "import tensorflow as tf\n",
        "from tensorflow import keras\n",
        "# from tensorflow.keras.preprocessing.image import ImageDataGenerator\n",
        "from tensorflow.keras.preprocessing.image import ImageDataGenerator, load_img, img_to_array\n",
        "import numpy as np\n",
        "import matplotlib.pyplot as plt"
      ]
    },
    {
      "cell_type": "code",
      "source": [
        "from google.colab import drive\n",
        "drive.mount('/content/drive')"
      ],
      "metadata": {
        "colab": {
          "base_uri": "https://localhost:8080/"
        },
        "id": "vUOufMppQ1l7",
        "outputId": "2a57b306-523e-4f5f-93a7-ec2f878969fb"
      },
      "execution_count": null,
      "outputs": [
        {
          "output_type": "stream",
          "name": "stdout",
          "text": [
            "Drive already mounted at /content/drive; to attempt to forcibly remount, call drive.mount(\"/content/drive\", force_remount=True).\n"
          ]
        }
      ]
    },
    {
      "cell_type": "code",
      "source": [
        "\n",
        "train_data_dir = '/content/drive/My Drive/face-recog/train'\n",
        "test_data_dir = '/content/drive/My Drive/face-recog/test'\n",
        "\n",
        "\n",
        "img_width, img_height = 48, 48\n",
        "batch_size = 32\n",
        "\n",
        "\n",
        "train_datagen = ImageDataGenerator(\n",
        "    rescale=1.0/255.0,\n",
        "    rotation_range=30,\n",
        "    shear_range=0.2,\n",
        "    zoom_range=0.2,\n",
        "    horizontal_flip=True\n",
        ")\n",
        "\n",
        "test_datagen = ImageDataGenerator(rescale=1.0/255.0)\n",
        "\n",
        "train_generator = train_datagen.flow_from_directory(\n",
        "    train_data_dir,\n",
        "    target_size=(img_width, img_height),\n",
        "    batch_size=batch_size,\n",
        "    class_mode='categorical'\n",
        ")\n",
        "\n",
        "test_generator = test_datagen.flow_from_directory(\n",
        "    test_data_dir,\n",
        "    target_size=(img_width, img_height),\n",
        "    batch_size=batch_size,\n",
        "    class_mode='categorical'\n"
      ],
      "metadata": {
        "colab": {
          "base_uri": "https://localhost:8080/"
        },
        "id": "etiX8-rMXDeh",
        "outputId": "f4f1bc6c-01c7-468c-8216-e5e94d510a11"
      },
      "execution_count": null,
      "outputs": [
        {
          "output_type": "stream",
          "name": "stdout",
          "text": [
            "Found 3014 images belonging to 7 classes.\n",
            "Found 0 images belonging to 7 classes.\n"
          ]
        }
      ]
    },
    {
      "cell_type": "code",
      "source": [
        "model = keras.Sequential([\n",
        "    # Convolutional layers\n",
        "    keras.layers.Conv2D(32, (3, 3), activation='relu', input_shape=(img_width, img_height, 3)),\n",
        "    keras.layers.MaxPooling2D((2, 2)),\n",
        "    keras.layers.Conv2D(64, (3, 3), activation='relu'),\n",
        "    keras.layers.MaxPooling2D((2, 2)),\n",
        "    keras.layers.Conv2D(128, (3, 3), activation='relu'),\n",
        "    keras.layers.MaxPooling2D((2, 2)),\n",
        "\n",
        "    # Flatten the feature maps\n",
        "    keras.layers.Flatten(),\n",
        "\n",
        "    # Fully connected layers\n",
        "    keras.layers.Dense(128, activation='relu'),\n",
        "\n",
        "    # Output layer with softmax activation for multi-class classification\n",
        "    keras.layers.Dense(7, activation='softmax')\n",
        "])\n",
        "\n",
        "# Compile the model\n",
        "model.compile(optimizer='adam',\n",
        "              loss='categorical_crossentropy',\n",
        "              metrics=['accuracy'])\n"
      ],
      "metadata": {
        "id": "00mjUG7xXww7"
      },
      "execution_count": null,
      "outputs": []
    },
    {
      "cell_type": "code",
      "source": [
        "epochs = 10 # Adjust the number of epochs as needed\n",
        "\n",
        "history = model.fit_generator(\n",
        "    train_generator,\n",
        "    steps_per_epoch=train_generator.samples // batch_size,\n",
        "    epochs=epochs,\n",
        "    validation_data=test_generator,\n",
        "    validation_steps=test_generator.samples // batch_size,\n",
        ")"
      ],
      "metadata": {
        "id": "rDfIdcjGYacg",
        "colab": {
          "base_uri": "https://localhost:8080/"
        },
        "outputId": "78acad33-33cd-46f6-a594-8b7f40f2ccd9"
      },
      "execution_count": null,
      "outputs": [
        {
          "output_type": "stream",
          "name": "stderr",
          "text": [
            "<ipython-input-17-20cc2f3afab8>:3: UserWarning: `Model.fit_generator` is deprecated and will be removed in a future version. Please use `Model.fit`, which supports generators.\n",
            "  history = model.fit_generator(\n"
          ]
        },
        {
          "output_type": "stream",
          "name": "stdout",
          "text": [
            "Epoch 1/10\n",
            "94/94 [==============================] - 24s 192ms/step - loss: 0.0409 - accuracy: 0.9893\n",
            "Epoch 2/10\n",
            "94/94 [==============================] - 18s 191ms/step - loss: 2.9498e-07 - accuracy: 1.0000\n",
            "Epoch 3/10\n",
            "94/94 [==============================] - 19s 201ms/step - loss: 2.5943e-07 - accuracy: 1.0000\n",
            "Epoch 4/10\n",
            "94/94 [==============================] - 18s 193ms/step - loss: 2.2243e-07 - accuracy: 1.0000\n",
            "Epoch 5/10\n",
            "94/94 [==============================] - 18s 191ms/step - loss: 1.8672e-07 - accuracy: 1.0000\n",
            "Epoch 6/10\n",
            "94/94 [==============================] - 18s 191ms/step - loss: 1.5279e-07 - accuracy: 1.0000\n",
            "Epoch 7/10\n",
            "94/94 [==============================] - 20s 215ms/step - loss: 1.2298e-07 - accuracy: 1.0000\n",
            "Epoch 8/10\n",
            "94/94 [==============================] - 18s 193ms/step - loss: 9.7688e-08 - accuracy: 1.0000\n",
            "Epoch 9/10\n",
            "94/94 [==============================] - 18s 191ms/step - loss: 7.6306e-08 - accuracy: 1.0000\n",
            "Epoch 10/10\n",
            "94/94 [==============================] - 18s 193ms/step - loss: 5.9439e-08 - accuracy: 1.0000\n"
          ]
        }
      ]
    },
    {
      "cell_type": "code",
      "source": [
        "import cv2\n",
        "\n",
        "# img_width, img_height = 128, 128\n",
        "emotion_labels = ['angry', 'happy', 'sad', 'surprised', 'neutral', 'disgusted', 'fearful']\n",
        "test_image_paths = ['/content/1.jpg']\n",
        "\n",
        "test_images = []\n",
        "\n",
        "for image_path in test_image_paths:\n",
        "    img = load_img(image_path, target_size=(img_width, img_height))\n",
        "    img_gray = cv2.cvtColor(img_to_array(img), cv2.COLOR_BGR2GRAY)\n",
        "    img_gray = img_gray / 255.0\n",
        "    test_images.append(img_gray)\n",
        "\n",
        "test_images = np.array(test_images)\n",
        "test_images = np.reshape(test_images, (len(test_images), img_width, img_height, 1))\n",
        "\n",
        "predictions = model.predict(test_images)\n",
        "\n",
        "predicted_emotions = [emotion_labels[np.argmax(pred)] for pred in predictions]\n",
        "\n",
        "print(predicted_emotions)\n"
      ],
      "metadata": {
        "colab": {
          "base_uri": "https://localhost:8080/"
        },
        "id": "3WLhK7xTaws_",
        "outputId": "0a93c55c-eaf2-4f0a-ebd6-de06a0df52cd"
      },
      "execution_count": null,
      "outputs": [
        {
          "output_type": "stream",
          "name": "stdout",
          "text": [
            "1/1 [==============================] - 0s 37ms/step\n"
          ]
        },
        {
          "output_type": "execute_result",
          "data": {
            "text/plain": [
              "['fearful']"
            ]
          },
          "metadata": {},
          "execution_count": 20
        }
      ]
    },
    {
      "cell_type": "markdown",
      "source": [],
      "metadata": {
        "id": "x0cpo_Fcgq6T"
      }
    }
  ]
}