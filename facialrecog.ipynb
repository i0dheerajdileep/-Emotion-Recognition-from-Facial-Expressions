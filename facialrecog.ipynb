{
  "nbformat": 4,
  "nbformat_minor": 0,
  "metadata": {
    "colab": {
      "provenance": [],
      "authorship_tag": "ABX9TyM148bA1/KWP/PEWrgUWplM",
      "include_colab_link": true
    },
    "kernelspec": {
      "name": "python3",
      "display_name": "Python 3"
    },
    "language_info": {
      "name": "python"
    }
  },
  "cells": [
    {
      "cell_type": "markdown",
      "metadata": {
        "id": "view-in-github",
        "colab_type": "text"
      },
      "source": [
        "<a href=\"https://colab.research.google.com/github/i0dheerajdileep/Emotion-Recognition-from-Facial-Expressions/blob/main/facialrecog.ipynb\" target=\"_parent\"><img src=\"https://colab.research.google.com/assets/colab-badge.svg\" alt=\"Open In Colab\"/></a>"
      ]
    },
    {
      "cell_type": "code",
      "execution_count": null,
      "metadata": {
        "id": "g1D_jAF9ZuNx"
      },
      "outputs": [],
      "source": [
        "import tensorflow as tf\n",
        "from tensorflow import keras\n",
        "# from tensorflow.keras.preprocessing.image import ImageDataGenerator\n",
        "from tensorflow.keras.preprocessing.image import ImageDataGenerator, load_img, img_to_array\n",
        "import numpy as np\n",
        "import matplotlib.pyplot as plt"
      ]
    },
    {
      "cell_type": "code",
      "source": [
        "from google.colab import drive\n",
        "drive.mount('/content/drive')"
      ],
      "metadata": {
        "colab": {
          "base_uri": "https://localhost:8080/"
        },
        "id": "ScTHGJayZxvf",
        "outputId": "f3406397-9ebf-439c-b4fc-022568c182b8"
      },
      "execution_count": null,
      "outputs": [
        {
          "output_type": "stream",
          "name": "stdout",
          "text": [
            "Mounted at /content/drive\n"
          ]
        }
      ]
    },
    {
      "cell_type": "code",
      "source": [
        "train_data_dir = '/content/drive/My Drive/face-recog/train'\n",
        "test_data_dir = '/content/drive/My Drive/face-recog/test'\n",
        "\n",
        "\n",
        "img_width, img_height = 48, 48\n",
        "batch_size = 32\n",
        "\n",
        "\n",
        "train_datagen = ImageDataGenerator(\n",
        "    rescale=1.0/255.0,\n",
        "    rotation_range=30,\n",
        "    shear_range=0.2,\n",
        "    zoom_range=0.2,\n",
        "    horizontal_flip=True\n",
        ")\n",
        "\n",
        "test_datagen = ImageDataGenerator(rescale=1.0/255.0)\n",
        "\n",
        "train_generator = train_datagen.flow_from_directory(\n",
        "    train_data_dir,\n",
        "    target_size=(img_width, img_height),\n",
        "    batch_size=batch_size,\n",
        "    class_mode='categorical'\n",
        ")\n",
        "\n",
        "test_generator = test_datagen.flow_from_directory(\n",
        "    test_data_dir,\n",
        "    target_size=(img_width, img_height),\n",
        "    batch_size=batch_size,\n",
        "    class_mode='categorical'\n"
      ],
      "metadata": {
        "id": "LYwAhHtHZ3cM"
      },
      "execution_count": null,
      "outputs": []
    },
    {
      "cell_type": "code",
      "source": [
        "model = keras.Sequential([\n",
        "    # Convolutional layers\n",
        "    keras.layers.Conv2D(32, (3, 3), activation='relu', input_shape=(img_width, img_height, 3)),\n",
        "    keras.layers.MaxPooling2D((2, 2)),\n",
        "    keras.layers.Conv2D(64, (3, 3), activation='relu'),\n",
        "    keras.layers.MaxPooling2D((2, 2)),\n",
        "    keras.layers.Conv2D(128, (3, 3), activation='relu'),\n",
        "    keras.layers.MaxPooling2D((2, 2)),\n",
        "\n",
        "    # Flatten the feature maps\n",
        "    keras.layers.Flatten(),\n",
        "\n",
        "    # Fully connected layers\n",
        "    keras.layers.Dense(128, activation='relu'),\n",
        "\n",
        "    # Output layer with softmax activation for multi-class classification\n",
        "    keras.layers.Dense(7, activation='softmax')\n",
        "])\n",
        "\n",
        "# Compile the model\n",
        "model.compile(optimizer='adam',\n",
        "              loss='categorical_crossentropy',\n",
        "              metrics=['accuracy'])\n"
      ],
      "metadata": {
        "id": "wxCn8ET_Z8gI"
      },
      "execution_count": null,
      "outputs": []
    },
    {
      "cell_type": "code",
      "source": [
        "epochs = 10 # Adjust the number of epochs as needed\n",
        "\n",
        "history = model.fit_generator(\n",
        "    train_generator,\n",
        "    steps_per_epoch=train_generator.samples // batch_size,\n",
        "    epochs=epochs,\n",
        "    validation_data=test_generator,\n",
        "    validation_steps=test_generator.samples // batch_size,\n",
        ")"
      ],
      "metadata": {
        "id": "TpKerGeTaCZI"
      },
      "execution_count": null,
      "outputs": []
    },
    {
      "cell_type": "code",
      "source": [
        "import cv2\n",
        "\n",
        "# img_width, img_height = 128, 128\n",
        "emotion_labels = ['angry', 'happy', 'sad', 'surprised', 'neutral', 'disgusted', 'fearful']\n",
        "test_image_paths = ['/content/1.jpg']\n",
        "\n",
        "test_images = []\n",
        "\n",
        "for image_path in test_image_paths:\n",
        "    img = load_img(image_path, target_size=(img_width, img_height))\n",
        "    img_gray = cv2.cvtColor(img_to_array(img), cv2.COLOR_BGR2GRAY)\n",
        "    img_gray = img_gray / 255.0\n",
        "    test_images.append(img_gray)\n",
        "\n",
        "test_images = np.array(test_images)\n",
        "test_images = np.reshape(test_images, (len(test_images), img_width, img_height, 1))\n",
        "\n",
        "predictions = model.predict(test_images)\n",
        "\n",
        "predicted_emotions = [emotion_labels[np.argmax(pred)] for pred in predictions]\n",
        "\n",
        "print(predicted_emotions)"
      ],
      "metadata": {
        "id": "88tKdQIqcHFB"
      },
      "execution_count": null,
      "outputs": []
    }
  ]
}